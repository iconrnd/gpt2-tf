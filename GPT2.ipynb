{
 "cells": [
  {
   "cell_type": "markdown",
   "id": "80f2d32d-a2a5-4d07-82a8-a75f9d59a5c2",
   "metadata": {},
   "source": [
    "## Translating NanoGPT (GPT2) to TensorFlow\n",
    "\n",
    "#### Based on https://github.com/karpathy/nanoGPT/blob/master/model.py"
   ]
  },
  {
   "cell_type": "code",
   "execution_count": 17,
   "id": "5cd63294-aad8-43f0-af26-fd269065c3cd",
   "metadata": {},
   "outputs": [],
   "source": [
    "import tensorflow as tf\n",
    "import numpy as np\n",
    "from  dataclasses import dataclass\n",
    "from tensorflow.experimental import numpy as tnp\n",
    "import tensorflow_probability as tfp"
   ]
  },
  {
   "cell_type": "markdown",
   "id": "12e066ce-3b7f-4b67-9baf-0447689759ca",
   "metadata": {},
   "source": [
    "## The Model"
   ]
  },
  {
   "cell_type": "code",
   "execution_count": 2,
   "id": "1815235f-5c52-47f2-b907-d76302440ccd",
   "metadata": {},
   "outputs": [],
   "source": [
    "class MyLayerNorm(tf.keras.layers.Layer):\n",
    "    \n",
    "    def __init__(self, bias=True, eps=1e-6, **kwargs):\n",
    "        super().__init__(**kwargs)\n",
    "        self.eps = eps\n",
    "        self.bias = bias\n",
    "        \n",
    "    def build(self, input_shape):  \n",
    "        self.weight = self.add_weight(name='weight',\n",
    "                                      shape=input_shape[-1:], # [-1:] gives last elem but keeps dims\n",
    "                                      initializer=tf.keras.initializers.Ones(),\n",
    "                                      trainable=True)\n",
    "\n",
    "        self.bias = self.add_weight(name='bias',\n",
    "                                      shape=input_shape[-1:], # [-1:] gives last elem but keeps dims\n",
    "                                      initializer=tf.keras.initializers.Zeros(),\n",
    "                                      trainable=True) if self.bias else None\n",
    "\n",
    "        super(MyLayerNorm, self).build(input_shape)\n",
    "    \n",
    "    def call(self, x):\n",
    "        # Can also use tf.nn.moments(inputs, axes=-1, keepdims=True), \n",
    "        # but then additionally one needs to take the sqrt to get \\sigma\n",
    "        mean = tf.keras.backend.mean(x, axis=-1, keepdims=True)\n",
    "        std = tf.keras.backend.std(x, axis=-1, keepdims=True)\n",
    "        \n",
    "        return self.weight * (x - mean) / (std + self.eps) + self.bias"
   ]
  },
  {
   "cell_type": "code",
   "execution_count": 3,
   "id": "f30015f0-edcb-4f58-95ba-7ef0b1f9b2b4",
   "metadata": {},
   "outputs": [],
   "source": [
    "@dataclass\n",
    "class GPTConfig:\n",
    "    block_size: int = 8 # 1024 for GPT2\n",
    "    vocab_size: int = 20 # 50304 for GPT2\n",
    "    n_layer: int = 2 # 12\n",
    "    n_head: int = 2 # 12\n",
    "    n_embd: int = 10 # 768\n",
    "    dropout: float = 0.0\n",
    "    bias: bool = True\n",
    "    seed: int = 1337"
   ]
  },
  {
   "cell_type": "code",
   "execution_count": 4,
   "id": "62748a28-fe5e-447a-9ee0-364f628721b8",
   "metadata": {},
   "outputs": [],
   "source": [
    "class CausalSelfAttention(tf.keras.layers.Layer):\n",
    "    \n",
    "    def __init__(self, config):\n",
    "        super().__init__()\n",
    "        assert config.n_embd % config.n_head == 0, \"Embedding dimension must divide number of heads\"\n",
    "        # key, query, value computed at once and splitted later\n",
    "        self.initializer_proj = tf.keras.initializers.RandomNormal(mean=0.0, stddev=0.02 / tf.math.sqrt(2. * config.n_layer), seed=None)\n",
    "        self.c_attn = tf.keras.layers.Dense(#config.n_embd,\n",
    "                                            3 * config.n_embd,\n",
    "                                            activation=None,\n",
    "                                            use_bias=config.bias)\n",
    "        # output projection\n",
    "        self.c_proj = tf.keras.layers.Dense(#config.n_embd,\n",
    "                                            config.n_embd,\n",
    "                                            activation=None,\n",
    "                                            kernel_initializer=self.initializer_proj,\n",
    "                                            use_bias=config.bias)\n",
    "        self.dropout = config.dropout\n",
    "        self.attn_dropout = tf.keras.layers.Dropout(self.dropout)\n",
    "        self.resid_dropout = tf.keras.layers.Dropout(self.dropout)\n",
    "\n",
    "        self.mask = tf.experimental.numpy.tril(\n",
    "            tf.ones([config.block_size, config.block_size]))[tf.newaxis, tf.newaxis, :, :]\n",
    "\n",
    "    def forward(self, x):\n",
    "        \n",
    "        B, T, C = x.size() # batch, sequence and channel, which is the embedding dim\n",
    "\n",
    "        q, k, v = self.c_attn(x).split(self.n_embd, axis=2)\n",
    "        k = tf.transpose(tf.reshape(k, [B, T, self.n_head, C // self.n_head]),\n",
    "                         perm=[0, 2, 1, 3])\n",
    "        q = tf.transpose(tf.reshape(q, [B, T, self.n_head, C // self.n_head]),\n",
    "                         perm=[0, 2, 1, 3])\n",
    "        v = tf.transpose(tf.reshape(v, [B, T, self.n_head, C // self.n_head]),\n",
    "                         perm=[0, 2, 1, 3])\n",
    "\n",
    "        att = (q @ tf.transpose(k, perm=[0, 1, 3, 2])) * (1.0 / tf.math.sqrt(k.shape[-1]))\n",
    "\n",
    "        mask = tf.experimental.numpy.tril(tf.ones([T, T]))[tf.newaxis, tf.newaxis, :, :]\n",
    "        att = tf.where(mask != 0, att, tf.constant(-np.inf))\n",
    "        att = tf.nn.softmax(att, axis = 3)\n",
    "        att = self.attn_dropout(att)\n",
    "        y = att @ v\n",
    "\n",
    "        y = tf.reshape(tf.transpose(y, perm=[0, 2, 1, 3]), [B, T, C])\n",
    "\n",
    "        return self.resid_dropout(self.c_proj(y))"
   ]
  },
  {
   "cell_type": "code",
   "execution_count": 5,
   "id": "3f03ff7b-782a-44ce-90d6-740bea8696d7",
   "metadata": {},
   "outputs": [],
   "source": [
    "class MLP(tf.keras.layers.Layer):\n",
    "\n",
    "    def __init__(self, config):\n",
    "        super().__init__()\n",
    "        self.initializer_proj = tf.keras.initializers.RandomNormal(mean=0.0, stddev=0.02 / tf.math.sqrt(2. * config.n_layer), seed=None)\n",
    "        # Streching and shrinking in channel/embedding dimension,\n",
    "        # like for large resnets\n",
    "        self.c_fc = tf.keras.layers.Dense(4 * config.n_embd, activation=None, use_bias=config.bias)\n",
    "        self.c_proj = tf.keras.layers.Dense(config.n_embd, activation=None, kernel_initializer=self.initializer_proj, use_bias=config.bias)\n",
    "        self.gelu = tf.keras.activations.gelu\n",
    "        self.dropout = tf.keras.layers.Dropout(config.dropout)\n",
    "\n",
    "    def forward(self, x):\n",
    "        x = self.c_fc(x)\n",
    "        x = self.gelu(x)\n",
    "        x = self.c_proj(x)\n",
    "        return self.dropout(x)\n",
    "        "
   ]
  },
  {
   "cell_type": "code",
   "execution_count": 6,
   "id": "d5b9f2e7-a6ca-42f1-a4f1-9fd4c70a5d6f",
   "metadata": {},
   "outputs": [],
   "source": [
    "class Block(tf.keras.layers.Layer):\n",
    "\n",
    "    def __init__(self, config):\n",
    "        super().__init__()\n",
    "        self.ln_1 = MyLayerNorm(bias=config.bias)\n",
    "        self.attn = CausalSelfAttention(config)\n",
    "        self.ln_2 = MyLayerNorm(bias=config.bias)\n",
    "        self.mlp = MLP(config)\n",
    "    \n",
    "    def forward(self, x):\n",
    "        x = x + self.attn(self.ln_1(x))\n",
    "        return x + self.mlp(self.ln_2(x))"
   ]
  },
  {
   "cell_type": "code",
   "execution_count": 83,
   "id": "33c27098-de9a-4d27-81dd-03252d470f5e",
   "metadata": {},
   "outputs": [],
   "source": [
    "class GPT(tf.keras.models.Model):\n",
    "\n",
    "    def __init__(self, config):\n",
    "        super().__init__()\n",
    "        assert config.vocab_size is not None\n",
    "        assert config.block_size is not None\n",
    "        self.config = config\n",
    "\n",
    "        self.initializer_dense = tf.keras.initializers.RandomNormal(mean=0.0, stddev=0.02, seed=self.config.seed)\n",
    "        self.initializer_embed = tf.keras.initializers.RandomNormal(mean=0.0, stddev=0.02, seed=self.config.seed)\n",
    "        self.initializer_bias = tf.keras.initializers.Zeros()\n",
    "        \n",
    "        self.wte = tf.keras.layers.Embedding(self.config.vocab_size, self.config.n_embd, \n",
    "                                             embeddings_initializer=self.initializer_embed, name='wte')\n",
    "        self.wpe = tf.keras.layers.Embedding(self.config.vocab_size, self.config.n_embd, \n",
    "                                             embeddings_initializer=self.initializer_embed, name='wpe')\n",
    "        self.drop = tf.keras.layers.Dropout(self.config.dropout, name='drop')\n",
    "        self.h = [Block(self.config) for _ in range(self.config.n_layer)]\n",
    "        self.ln_f = MyLayerNorm(bias=self.config.bias, name='ln_f')\n",
    "\n",
    "        self.lm_head = tf.keras.layers.Dense(self.config.vocab_size, use_bias=self.config.bias)\n",
    "\n",
    "    def build(self, input_shape):\n",
    "        self.wte.build(input_shape=[self.config.vocab_size])\n",
    "        self.lm_head.build(input_shape=[self.config.n_embd])\n",
    "        self.wte.trainable_weights[0].assign(tf.transpose(self.lm_head.trainable_weights[0]))\n",
    "        \n",
    "    def call(self, idx, targets=None):\n",
    "        b, t = idx.shape\n",
    "        assert t <= self.config.block_size, f'sequence too long for the defined context of {self.config.block_size}'\n",
    "        pos = tf.range(0, t, dtype=tf.int64)\n",
    "\n",
    "        tok_emb = self.wte(idx)\n",
    "        pos_emb = self.wpe(pos)\n",
    "        x = self.drop(tok_emb + pos_emb)\n",
    "        for block in self.h:\n",
    "            x = block(x)\n",
    "        x = self.ln_f(x)\n",
    "\n",
    "        if targets is not None:\n",
    "            ce = tf.keras.losses.SparseCategoricalCrossentropy(from_logits=True)\n",
    "            logits = self.lm_head(x)\n",
    "            \n",
    "            #print(tf.reshape(targets, [-1]).shape)\n",
    "            #print(tf.reshape(logits, [-1, logits.shape[-1]]).shape)\n",
    "            \n",
    "            loss = ce(tf.reshape(targets, [-1]),\n",
    "                      tf.reshape(logits, [-1, logits.shape[-1]]))\n",
    "        else:\n",
    "            logits = self.lm_head(x[:, -1, :])[:, tf.newaxis, :]\n",
    "            loss = None\n",
    "\n",
    "        return logits, loss\n",
    "\n",
    "    def estimate_mfu(self, fwdbwd_per_iter, dt):\n",
    "        N = self.count_params()\n",
    "        L, H, Q, T = self.config.n_layer, self.config.n_head, self.config.n_embd / self.config.n_head, self.config.block_size\n",
    "        flops_per_token = 6 * N + 12 * L * H * Q * T\n",
    "        flops_per_fwdbwd = flops_per_token * T\n",
    "        flops_per_iter = flops_per_fwdbwd * fwdbwd_per_iter\n",
    "        flops_achieved = flops_per_iter * (1.0/dt)\n",
    "        flops_promised = 312e12 # A100 at bfloat16\n",
    "        mfu = flops_achieved / flops_promised\n",
    "        return mfu\n",
    "    \n",
    "    def generate(self, idx, max_new_tokens, temperature=1.0, top_k=None):\n",
    "        for i in range(max_new_tokens):\n",
    "            idx_cond = idx if idx.shape[1] <= self.config.block_size else idx[:, -self.config.block_size:]\n",
    "            logits, _ = self(idx_cond)\n",
    "            logits = logits[:, -1, :] / temperature\n",
    "            if top_k is not None:\n",
    "                v, _ = tf.math.top_k(logits, min(top_k, logits.shape[-1]))\n",
    "                # Returned top_k values are sorted, so [-1] is the smallest of top_k\n",
    "                # and we cut all below that value\n",
    "                logits[logits < v[:, -1]] = -float('Inf')\n",
    "            probs = tf.keras.activations.softmax(logits, axis=-1)\n",
    "            idx_dist = tfp.distributions.Multinomial(total_count=1, probs=probs)\n",
    "            idx_next = idx_dist.sample(1)\n",
    "            idx_next = tf.reshape(tf.math.argmax(idx_next, axis=-1), shape=(-1, 1))\n",
    "            print(idx_next)\n",
    "            idx = tf.concat([idx, idx_next], axis=1)\n",
    "        return idx"
   ]
  },
  {
   "cell_type": "code",
   "execution_count": 24,
   "id": "918718bb-997f-4470-8cfe-bd17a1539eba",
   "metadata": {},
   "outputs": [],
   "source": [
    "cfg = GPTConfig()"
   ]
  },
  {
   "cell_type": "code",
   "execution_count": 25,
   "id": "de4b91fa-8fdd-4472-b930-2be16cc4370c",
   "metadata": {},
   "outputs": [
    {
     "data": {
      "text/plain": [
       "GPTConfig(block_size=8, vocab_size=20, n_layer=2, n_head=2, n_embd=10, dropout=0.0, bias=True, seed=1337)"
      ]
     },
     "execution_count": 25,
     "metadata": {},
     "output_type": "execute_result"
    }
   ],
   "source": [
    "cfg"
   ]
  },
  {
   "cell_type": "code",
   "execution_count": null,
   "id": "53bab698-a256-4958-a02f-97e9af6e3003",
   "metadata": {},
   "outputs": [],
   "source": [
    "txt = tf.constant(np.random.randint(0, 9, size=[2, 8]), dtype=tf.int64)"
   ]
  },
  {
   "cell_type": "code",
   "execution_count": 12,
   "id": "081ea851-b392-418b-9920-7a193dc32757",
   "metadata": {},
   "outputs": [
    {
     "data": {
      "text/plain": [
       "<tf.Tensor: shape=(2, 8), dtype=int64, numpy=\n",
       "array([[2, 3, 4, 6, 5, 8, 7, 6],\n",
       "       [0, 0, 2, 7, 8, 1, 2, 6]])>"
      ]
     },
     "execution_count": 12,
     "metadata": {},
     "output_type": "execute_result"
    }
   ],
   "source": [
    "txt"
   ]
  },
  {
   "cell_type": "code",
   "execution_count": 84,
   "id": "06239357-d63e-4851-b9fd-f6709f73690a",
   "metadata": {},
   "outputs": [],
   "source": [
    "gpt = GPT(cfg)"
   ]
  },
  {
   "cell_type": "code",
   "execution_count": 86,
   "id": "fc303292-68b9-4094-8cd8-352bb0b0ca33",
   "metadata": {
    "scrolled": true
   },
   "outputs": [
    {
     "data": {
      "text/plain": [
       "(<tf.Tensor: shape=(2, 8, 20), dtype=float32, numpy=\n",
       " array([[[-1.1011575 ,  0.01307986,  2.3074875 , -0.5072701 ,\n",
       "          -0.23140283, -0.7444831 , -1.1220703 ,  0.88971376,\n",
       "           0.4679233 ,  1.2061884 ,  0.81449175, -0.58697015,\n",
       "           0.4837832 ,  0.5646569 ,  0.61891294, -0.6671307 ,\n",
       "          -2.0079443 , -1.8840489 ,  1.2537247 , -1.7491484 ],\n",
       "         [ 0.14379741, -1.1388445 , -0.33680928,  2.6758158 ,\n",
       "          -0.10954601,  1.1145775 , -0.88609207, -0.6991405 ,\n",
       "          -1.0007828 , -0.6171318 , -1.852392  , -0.83712107,\n",
       "           0.9389086 , -1.7580435 ,  0.7752962 ,  0.8872563 ,\n",
       "           0.6011041 ,  0.49998727, -1.1544275 ,  0.46716666],\n",
       "         [ 0.3890845 , -1.0326089 , -0.2573085 , -0.17484933,\n",
       "           2.423233  , -1.1124059 , -0.889344  , -0.42216268,\n",
       "           0.28954422,  0.63077796,  0.92211014,  0.7719299 ,\n",
       "           0.37363315, -0.7288001 , -0.67543805,  0.36637235,\n",
       "           0.66849226, -0.3997035 , -0.22817367,  0.75288165],\n",
       "         [ 0.23162447,  0.5908164 , -0.9350429 , -0.89916265,\n",
       "          -0.8348328 , -0.04594269,  2.8168254 , -0.2813667 ,\n",
       "           0.0331471 , -1.2328798 , -0.1184918 , -0.16549289,\n",
       "          -0.3934338 ,  1.3455434 ,  0.5612805 , -0.35627255,\n",
       "           0.77940106, -0.18113355,  0.17125216, -0.17359358],\n",
       "         [ 0.25464687, -0.01649   , -0.8161857 ,  1.3435309 ,\n",
       "          -1.2612008 ,  2.1002786 ,  0.08726245, -0.1004405 ,\n",
       "          -0.2598972 , -0.79433537, -1.4832318 , -0.01246119,\n",
       "          -0.12892623, -0.6284854 ,  0.35288337,  0.77307147,\n",
       "           0.69598424,  1.7925787 , -0.18497092,  0.93855643],\n",
       "         [ 0.85231745, -0.20486556,  0.416396  , -1.3380978 ,\n",
       "           0.4783051 , -0.3113564 , -0.07363375, -0.29242015,\n",
       "           2.1620636 ,  0.79110885,  1.3014661 ,  1.5697931 ,\n",
       "          -0.8758575 ,  0.23987922, -1.3589274 ,  0.5699004 ,\n",
       "          -0.59842545, -0.07585129,  0.9215059 ,  0.47804612],\n",
       "         [-0.8567527 ,  1.4651974 ,  1.1766322 , -0.9207983 ,\n",
       "          -0.57579404, -0.15154673, -0.599029  ,  1.8020688 ,\n",
       "          -0.37593582,  0.7837441 , -0.1486339 ,  0.509081  ,\n",
       "          -0.48474044,  1.4191766 ,  1.2822495 , -0.48604897,\n",
       "          -0.97510195, -0.5142481 ,  1.1932975 , -1.5354093 ],\n",
       "         [ 0.16027184,  0.5838644 , -0.926147  , -0.84776586,\n",
       "          -0.8970655 , -0.01013915,  2.8189263 , -0.26918054,\n",
       "          -0.03742747, -1.240623  , -0.14360362, -0.2664557 ,\n",
       "          -0.34338644,  1.3427596 ,  0.6011497 , -0.3689742 ,\n",
       "           0.7485698 , -0.17357695,  0.14057946, -0.18700215]],\n",
       " \n",
       "        [[ 2.4299088 , -0.2735389 , -1.0018623 ,  0.0860711 ,\n",
       "           0.39783648,  0.20161928,  0.19870318, -0.60870945,\n",
       "           0.78019464, -0.7944054 , -0.4839368 ,  1.6957511 ,\n",
       "          -1.6188642 ,  0.40031415, -0.5714267 ,  0.3734184 ,\n",
       "           0.91472787,  0.7095284 , -0.10542805,  1.4822749 ],\n",
       "         [ 2.4285135 , -0.35128707, -1.0030649 ,  0.07531901,\n",
       "           0.47104725,  0.18191622,  0.18252411, -0.6281363 ,\n",
       "           0.7899034 , -0.7970204 , -0.40501297,  1.65699   ,\n",
       "          -1.5827087 ,  0.399862  , -0.6016172 ,  0.32733852,\n",
       "           0.9357175 ,  0.686325  , -0.07633576,  1.5436447 ],\n",
       "         [-1.1601094 ,  0.02176503,  2.3005145 , -0.42420387,\n",
       "          -0.36706105, -0.7171437 , -1.034245  ,  0.93915373,\n",
       "           0.30136165,  1.1660185 ,  0.70628744, -0.7166434 ,\n",
       "           0.4873975 ,  0.7107621 ,  0.7973098 , -0.6547512 ,\n",
       "          -2.082351  , -1.91822   ,  1.17659   , -1.778046  ],\n",
       "         [-0.67254907,  1.4544048 ,  1.0911633 , -1.1079414 ,\n",
       "          -0.56914014, -0.2288021 , -0.4083956 ,  1.8021777 ,\n",
       "          -0.3003069 ,  0.73479825, -0.02658663,  0.62264466,\n",
       "          -0.695434  ,  1.7393578 ,  1.2546797 , -0.5230457 ,\n",
       "          -0.99106026, -0.5381993 ,  1.2433974 , -1.3773361 ],\n",
       "         [ 0.78281254, -0.13197349,  0.3899103 , -1.3433597 ,\n",
       "           0.35775158, -0.18648815,  0.07868256, -0.27867004,\n",
       "           2.162086  ,  0.66084874,  1.2386391 ,  1.4965724 ,\n",
       "          -0.8149889 ,  0.2181923 , -1.2849026 ,  0.48338938,\n",
       "          -0.48203766, -0.03548162,  1.0308084 ,  0.4026628 ],\n",
       "         [-0.23968337,  2.4954102 , -0.04177588, -1.2273754 ,\n",
       "          -0.9495607 , -0.13143155,  0.5366079 ,  1.0266825 ,\n",
       "          -0.12728302,  0.01553938, -0.68346286,  1.1361407 ,\n",
       "          -0.9210319 ,  0.5356431 ,  0.28846198, -0.2883727 ,\n",
       "           0.18628895,  0.44699797,  0.3254637 , -1.6221745 ],\n",
       "         [-1.1117048 ,  0.07238986,  2.3038414 , -0.39315814,\n",
       "          -0.23068857, -0.7001064 , -1.2095337 ,  0.9318576 ,\n",
       "           0.37072158,  1.1792068 ,  0.65499234, -0.5663529 ,\n",
       "           0.51042116,  0.47011328,  0.7147996 , -0.6515802 ,\n",
       "          -1.936677  , -1.8505017 ,  1.222337  , -1.8250469 ],\n",
       "         [ 0.16027184,  0.5838644 , -0.926147  , -0.84776586,\n",
       "          -0.8970655 , -0.01013915,  2.8189263 , -0.26918054,\n",
       "          -0.03742747, -1.240623  , -0.14360362, -0.2664557 ,\n",
       "          -0.34338644,  1.3427596 ,  0.6011497 , -0.3689742 ,\n",
       "           0.7485698 , -0.17357695,  0.14057946, -0.18700215]]],\n",
       "       dtype=float32)>,\n",
       " <tf.Tensor: shape=(), dtype=float32, numpy=1.2215221>)"
      ]
     },
     "execution_count": 86,
     "metadata": {},
     "output_type": "execute_result"
    }
   ],
   "source": [
    "gpt(txt, txt)"
   ]
  },
  {
   "cell_type": "code",
   "execution_count": 74,
   "id": "a3cb3006-1a05-47cb-8bc5-196db4b33638",
   "metadata": {},
   "outputs": [
    {
     "name": "stdout",
     "output_type": "stream",
     "text": [
      "tf.Tensor(\n",
      "[[6]\n",
      " [6]], shape=(2, 1), dtype=int64)\n",
      "tf.Tensor(\n",
      "[[ 6]\n",
      " [10]], shape=(2, 1), dtype=int64)\n",
      "tf.Tensor(\n",
      "[[6]\n",
      " [0]], shape=(2, 1), dtype=int64)\n"
     ]
    },
    {
     "data": {
      "text/plain": [
       "<tf.Tensor: shape=(2, 11), dtype=int64, numpy=\n",
       "array([[ 2,  3,  4,  6,  5,  8,  7,  6,  6,  6,  6],\n",
       "       [ 0,  0,  2,  7,  8,  1,  2,  6,  6, 10,  0]])>"
      ]
     },
     "execution_count": 74,
     "metadata": {},
     "output_type": "execute_result"
    }
   ],
   "source": [
    "gpt.generate(txt, 3)"
   ]
  },
  {
   "cell_type": "code",
   "execution_count": 78,
   "id": "6660b840-4f2f-48a3-9610-9c12819bc82e",
   "metadata": {},
   "outputs": [
    {
     "name": "stdout",
     "output_type": "stream",
     "text": [
      "Model: \"gpt_13\"\n",
      "_________________________________________________________________\n",
      " Layer (type)                Output Shape              Param #   \n",
      "=================================================================\n",
      " wte (Embedding)             multiple                  200       \n",
      "                                                                 \n",
      " wpe (Embedding)             multiple                  200       \n",
      "                                                                 \n",
      " drop (Dropout)              multiple                  0         \n",
      "                                                                 \n",
      " block_26 (Block)            multiple                  0         \n",
      "                                                                 \n",
      " block_27 (Block)            multiple                  0         \n",
      "                                                                 \n",
      " ln_f (MyLayerNorm)          multiple                  20        \n",
      "                                                                 \n",
      " dense_125 (Dense)           multiple                  220       \n",
      "                                                                 \n",
      "=================================================================\n",
      "Total params: 640 (2.50 KB)\n",
      "Trainable params: 640 (2.50 KB)\n",
      "Non-trainable params: 0 (0.00 Byte)\n",
      "_________________________________________________________________\n"
     ]
    }
   ],
   "source": [
    "gpt.summary()"
   ]
  },
  {
   "cell_type": "code",
   "execution_count": 79,
   "id": "41ddf176-7a27-421c-9b7f-9d43e9c80872",
   "metadata": {},
   "outputs": [
    {
     "data": {
      "text/plain": [
       "640"
      ]
     },
     "execution_count": 79,
     "metadata": {},
     "output_type": "execute_result"
    }
   ],
   "source": [
    "gpt.count_params()"
   ]
  },
  {
   "cell_type": "code",
   "execution_count": 87,
   "id": "d2f006f2-4422-4566-954a-f03ac4245fd2",
   "metadata": {},
   "outputs": [
    {
     "data": {
      "text/plain": [
       "2.9538461538461536e-10"
      ]
     },
     "execution_count": 87,
     "metadata": {},
     "output_type": "execute_result"
    }
   ],
   "source": [
    "gpt.estimate_mfu(2,1)"
   ]
  },
  {
   "cell_type": "markdown",
   "id": "5445c587-127f-4847-a376-83137d4872eb",
   "metadata": {
    "jp-MarkdownHeadingCollapsed": true
   },
   "source": [
    "## Training"
   ]
  },
  {
   "cell_type": "code",
   "execution_count": 14,
   "id": "fc9783bf-ffd8-47a7-a96d-7e565b2fd426",
   "metadata": {},
   "outputs": [],
   "source": [
    "shakespear_url = \"https://homl.info/shakespeare\"\n",
    "filepath = tf.keras.utils.get_file('shakespear.txt', shakespear_url)"
   ]
  },
  {
   "cell_type": "code",
   "execution_count": 15,
   "id": "6b924d61-10ce-4a53-9bcf-988ac292bd4b",
   "metadata": {},
   "outputs": [],
   "source": [
    "with open(filepath, 'r', encoding='utf-8') as f:\n",
    "    shakespear_txt = f.read()"
   ]
  },
  {
   "cell_type": "code",
   "execution_count": 16,
   "id": "1fc58f79-1e89-4670-968d-b5ac2ddeaf12",
   "metadata": {},
   "outputs": [
    {
     "name": "stdout",
     "output_type": "stream",
     "text": [
      "First Citizen:\n",
      "Before we proceed any further, hear me speak.\n",
      "\n",
      "All:\n",
      "Speak, speak.\n",
      "\n",
      "First Citizen:\n",
      "You\n"
     ]
    }
   ],
   "source": [
    "print(shakespear_txt[:100])"
   ]
  },
  {
   "cell_type": "code",
   "execution_count": 17,
   "id": "895d2e3f-a3b9-4206-8a42-9c8ef6878241",
   "metadata": {},
   "outputs": [],
   "source": [
    "text_vec_layer = tf.keras.layers.TextVectorization(split='character',\n",
    "                                                  standardize='lower')"
   ]
  },
  {
   "cell_type": "code",
   "execution_count": 18,
   "id": "69510b33-0bc0-4949-8354-a3e46e6ce141",
   "metadata": {},
   "outputs": [],
   "source": [
    "text_vec_layer.adapt([shakespear_txt])"
   ]
  },
  {
   "cell_type": "code",
   "execution_count": 19,
   "id": "1cb9ef03-8cb6-460e-86e1-0f4ef25bddc7",
   "metadata": {},
   "outputs": [
    {
     "data": {
      "text/plain": [
       "['', '[UNK]', ' ', 'e', 't', 'o', 'a', 'i', 'h', 's']"
      ]
     },
     "execution_count": 19,
     "metadata": {},
     "output_type": "execute_result"
    }
   ],
   "source": [
    "text_vec_layer.get_vocabulary()[:10]"
   ]
  },
  {
   "cell_type": "code",
   "execution_count": 20,
   "id": "7c1790fb-ae48-4d91-8271-52dd1e9728e1",
   "metadata": {},
   "outputs": [],
   "source": [
    "encoded = text_vec_layer([shakespear_txt])[0]"
   ]
  },
  {
   "cell_type": "code",
   "execution_count": 21,
   "id": "a193190e-994c-4102-9641-9b6094057233",
   "metadata": {},
   "outputs": [
    {
     "data": {
      "text/plain": [
       "<tf.Tensor: shape=(1115394,), dtype=int64, numpy=array([21,  7, 10, ..., 22, 28, 12])>"
      ]
     },
     "execution_count": 21,
     "metadata": {},
     "output_type": "execute_result"
    }
   ],
   "source": [
    "encoded"
   ]
  },
  {
   "cell_type": "code",
   "execution_count": 22,
   "id": "48b4bc16-834b-4dcb-bf3a-9dcf99a75cb1",
   "metadata": {},
   "outputs": [],
   "source": [
    "# Removing code 0 and 1 reserved for padding and unknown characters \n",
    "# (codes start at 2 before that removal so now 0 and 1 will be some chars)\n",
    "encoded -= 2\n",
    "\n",
    "n_tokens = text_vec_layer.vocabulary_size() - 2\n",
    "dataset_size = len(encoded)"
   ]
  },
  {
   "cell_type": "code",
   "execution_count": 23,
   "id": "f67da86c-ac61-4c4e-9a1d-df7ae567eed1",
   "metadata": {},
   "outputs": [
    {
     "data": {
      "text/plain": [
       "39"
      ]
     },
     "execution_count": 23,
     "metadata": {},
     "output_type": "execute_result"
    }
   ],
   "source": [
    "n_tokens"
   ]
  },
  {
   "cell_type": "code",
   "execution_count": 24,
   "id": "e3ef9654-7a8f-46a7-bd8a-2c05f4c7eec4",
   "metadata": {},
   "outputs": [],
   "source": [
    "ds = tf.data.Dataset.from_tensor_slices(encoded)"
   ]
  },
  {
   "cell_type": "code",
   "execution_count": 25,
   "id": "42db9390-638c-4bc8-89a9-2fb3a8bf608c",
   "metadata": {},
   "outputs": [],
   "source": [
    "def to_dataset(sequence, length, shuffle=False, seed=None, batch_size=32):\n",
    "    ds = tf.data.Dataset.from_tensor_slices(sequence)\n",
    "    ds = ds.window(length + 1, shift=1, drop_remainder=True)\n",
    "    ds = ds.flat_map(lambda window_ds: window_ds.batch(length+1))\n",
    "    if shuffle:\n",
    "        ds = ds.shuffle(buffer_size=100_000, seed=seed)\n",
    "    ds = ds.batch(batch_size)\n",
    "    return ds.map(lambda window: (window[:, :-1], window[:, 1:])).prefetch(1)"
   ]
  },
  {
   "cell_type": "code",
   "execution_count": 26,
   "id": "53836358-b36f-4325-ad67-69dfa6bd38a8",
   "metadata": {},
   "outputs": [],
   "source": [
    "length = 8\n",
    "tf.random.set_seed(42)"
   ]
  },
  {
   "cell_type": "code",
   "execution_count": 27,
   "id": "5b70c83e-72b1-4449-87b5-c805e996e80c",
   "metadata": {},
   "outputs": [],
   "source": [
    "train_set = to_dataset(encoded[:1_060_000], length=length, shuffle=True, seed=1337)\n",
    "valid_set = to_dataset(encoded[1_060_000:], length=length)"
   ]
  },
  {
   "cell_type": "code",
   "execution_count": 28,
   "id": "c389baff-d9d6-4592-8faa-1429d90f4320",
   "metadata": {},
   "outputs": [
    {
     "name": "stdout",
     "output_type": "stream",
     "text": [
      "tf.Tensor([[ 3 14  1 26 10 10 25  5]], shape=(1, 8), dtype=int64)\n",
      "tf.Tensor([[14  1 26 10 10 25  5  8]], shape=(1, 8), dtype=int64)\n"
     ]
    }
   ],
   "source": [
    "for sample in train_set.rebatch(1).take(1):\n",
    "    print(sample[0])\n",
    "    print(sample[1])"
   ]
  },
  {
   "cell_type": "code",
   "execution_count": 29,
   "id": "97a7a825-e4ca-4684-9fef-d50ebc0a500d",
   "metadata": {},
   "outputs": [],
   "source": [
    "n_layer = 2\n",
    "n_head = 2 \n",
    "n_embd = 32\n",
    "block_size = length\n",
    "bias = True\n",
    "vocab_size = n_tokens\n",
    "dropout = tf.constant(0.0, dtype=tf.float32)\n",
    "\n",
    "iter_num = 0\n",
    "best_val_loss = 1e9\n",
    "max_iters = 100\n",
    "\n",
    "init_from = 'scratch'\n",
    "\n",
    "weight_decay = tf.constant(1e-1, dtype=tf.float32)\n",
    "\n",
    "warmup_iters = 10\n",
    "learning_rate = tf.constant(6e-4, dtype=tf.float32)\n",
    "lr_decay_iters = 100 # == max_iters\n",
    "min_lr = tf.constant(6e-5, dtype=tf.float32)\n",
    "\n",
    "eval_iters = 20\n",
    "eval_interval = 10\n",
    "\n",
    "grad_clip = tf.constant(1.0, dtype=tf.float32)"
   ]
  },
  {
   "cell_type": "code",
   "execution_count": 30,
   "id": "0666b4cf-de36-46eb-b843-ba07a0dd9da6",
   "metadata": {},
   "outputs": [],
   "source": [
    "model_args = dict(n_layer=n_layer, \n",
    "                  n_head=n_head, \n",
    "                  n_embd=n_embd,\n",
    "                  block_size=block_size,\n",
    "                  bias=bias,\n",
    "                  vocab_size=vocab_size,\n",
    "                  dropout=dropout)"
   ]
  },
  {
   "cell_type": "code",
   "execution_count": 32,
   "id": "9a18b3ce-bc94-444c-b924-1b07dae0d658",
   "metadata": {},
   "outputs": [
    {
     "data": {
      "text/plain": [
       "{'n_layer': 2,\n",
       " 'n_head': 2,\n",
       " 'n_embd': 32,\n",
       " 'block_size': 8,\n",
       " 'bias': True,\n",
       " 'vocab_size': 39,\n",
       " 'dropout': <tf.Tensor: shape=(), dtype=float32, numpy=0.0>}"
      ]
     },
     "execution_count": 32,
     "metadata": {},
     "output_type": "execute_result"
    }
   ],
   "source": [
    "model_args"
   ]
  },
  {
   "cell_type": "code",
   "execution_count": 33,
   "id": "3a3b2d39-fdbc-4b83-8110-100c6c8e4a0f",
   "metadata": {},
   "outputs": [],
   "source": [
    "if init_from == 'scratch':\n",
    "    gptconf = GPTConfig(**model_args)\n",
    "    model = GPT(gptconf)"
   ]
  },
  {
   "cell_type": "code",
   "execution_count": 34,
   "id": "49a20d00-713b-43cb-8eed-9254b62a960b",
   "metadata": {},
   "outputs": [],
   "source": [
    "for X, _ in train_set.take(1):\n",
    "    out = model(X)"
   ]
  },
  {
   "cell_type": "code",
   "execution_count": 35,
   "id": "c30241ec-6df0-4cc0-97f0-855235849fd6",
   "metadata": {},
   "outputs": [
    {
     "data": {
      "text/plain": [
       "(<tf.Tensor: shape=(32, 1, 39), dtype=float32, numpy=\n",
       " array([[[ 5.2112837 ,  2.0908573 , -1.7094367 , ..., -1.2486523 ,\n",
       "           0.69483757, -0.00625577]],\n",
       " \n",
       "        [[-0.26086673, -0.7746036 , -0.5939345 , ...,  0.542379  ,\n",
       "           0.046754  , -0.31683245]],\n",
       " \n",
       "        [[ 5.2112837 ,  2.0908573 , -1.7094367 , ..., -1.2486523 ,\n",
       "           0.69483757, -0.00625577]],\n",
       " \n",
       "        ...,\n",
       " \n",
       "        [[-0.26086673, -0.7746036 , -0.5939345 , ...,  0.542379  ,\n",
       "           0.046754  , -0.31683245]],\n",
       " \n",
       "        [[-0.26086673, -0.7746036 , -0.5939345 , ...,  0.542379  ,\n",
       "           0.046754  , -0.31683245]],\n",
       " \n",
       "        [[ 5.2112837 ,  2.0908573 , -1.7094367 , ..., -1.2486523 ,\n",
       "           0.69483757, -0.00625577]]], dtype=float32)>,\n",
       " None)"
      ]
     },
     "execution_count": 35,
     "metadata": {},
     "output_type": "execute_result"
    }
   ],
   "source": [
    "out"
   ]
  },
  {
   "cell_type": "code",
   "execution_count": 36,
   "id": "2c998a4c-a0ad-4d19-a061-17a8b16f9568",
   "metadata": {},
   "outputs": [],
   "source": [
    "@dataclass\n",
    "class MyLRSchedule(tf.keras.optimizers.schedules.LearningRateSchedule):\n",
    "    learning_rate: tf.float32 = learning_rate\n",
    "    warmup_iters: int = warmup_iters\n",
    "    min_lr: tf.float32 = min_lr \n",
    "    lr_decay_iters: int= lr_decay_iters\n",
    "    \n",
    "    def __call__(self, step):\n",
    "      if step < self.warmup_iters:\n",
    "          return self.learning_rate * float(step) / self.warmup_iters\n",
    "      if step > self.lr_decay_iters:\n",
    "          return self.min_lr\n",
    "      decay_ratio = (float(step) - self.warmup_iters) / (self.lr_decay_iters - self.warmup_iters)\n",
    "      assert 0 <= decay_ratio <= 1\n",
    "      coeff = 0.5 * (1.0 + tf.math.cos(tnp.pi * decay_ratio))\n",
    "      return self.min_lr + coeff * tf.cast((self.learning_rate - self.min_lr), dtype=tf.float32)"
   ]
  },
  {
   "cell_type": "code",
   "execution_count": 37,
   "id": "1f42d01b-d266-4770-818f-b8a965ba65c5",
   "metadata": {},
   "outputs": [],
   "source": [
    "optimizer = tf.keras.optimizers.AdamW(learning_rate=MyLRSchedule(learning_rate, warmup_iters, min_lr, lr_decay_iters))"
   ]
  },
  {
   "cell_type": "code",
   "execution_count": 38,
   "id": "3b8f304d-3e1b-423f-aeb6-2c58df083e6b",
   "metadata": {},
   "outputs": [],
   "source": [
    "def estimate_loss():\n",
    "    out = {'train': None, 'val': None}\n",
    "    \n",
    "    losses = tf.zeros(eval_iters)\n",
    "    k = tf.Variable(0)\n",
    "    for X, Y in train_set.take(eval_iters):\n",
    "        logits, loss = model(X, Y, training=False)\n",
    "        tf.tensor_scatter_nd_update(losses, [[k]], [loss])\n",
    "        k.assign_add(1)\n",
    "    out['train'] = tf.reduce_mean(loss)\n",
    "\n",
    "    losses = tf.zeros(eval_iters)\n",
    "    k = tf.Variable(0)\n",
    "    for X, Y in valid_set.take(eval_iters):\n",
    "        logits, loss = model(X, Y, training=False)\n",
    "        tf.tensor_scatter_nd_update(losses, [[k]], [loss])\n",
    "        k.assign_add(1)\n",
    "    out['val'] = tf.reduce_mean(loss)\n",
    "\n",
    "    return out"
   ]
  },
  {
   "cell_type": "code",
   "execution_count": 39,
   "id": "2a9be03c-6bce-48ea-9314-2174491da0b9",
   "metadata": {
    "scrolled": true
   },
   "outputs": [
    {
     "data": {
      "text/plain": [
       "{'train': <tf.Tensor: shape=(), dtype=float32, numpy=5.441515>,\n",
       " 'val': <tf.Tensor: shape=(), dtype=float32, numpy=5.13965>}"
      ]
     },
     "execution_count": 39,
     "metadata": {},
     "output_type": "execute_result"
    }
   ],
   "source": [
    "estimate_loss()"
   ]
  },
  {
   "cell_type": "code",
   "execution_count": 40,
   "id": "e2bef3f8-2226-43c8-a82b-8fa8c3e52f56",
   "metadata": {},
   "outputs": [],
   "source": [
    "eval_only = False\n",
    "eval_interval=1\n",
    "iter_num = 0"
   ]
  },
  {
   "cell_type": "code",
   "execution_count": 42,
   "id": "85bcc203-f181-4761-9215-3cbe90912eec",
   "metadata": {},
   "outputs": [
    {
     "name": "stdout",
     "output_type": "stream",
     "text": [
      "step 5: train loss 5.1932, val loss 5.1211\n",
      "step 6: train loss 5.2641, val loss 5.1120\n",
      "step 7: train loss 5.3812, val loss 5.1011\n",
      "step 8: train loss 5.3169, val loss 5.0886\n",
      "step 9: train loss 5.3550, val loss 5.0741\n",
      "step 10: train loss 5.2777, val loss 5.0579\n",
      "step 11: train loss 5.2650, val loss 5.0400\n",
      "step 12: train loss 5.2888, val loss 5.0226\n",
      "step 13: train loss 5.2873, val loss 5.0054\n",
      "step 14: train loss 5.1705, val loss 4.9881\n",
      "step 15: train loss 5.1544, val loss 4.9709\n",
      "step 16: train loss 5.1350, val loss 4.9537\n",
      "step 17: train loss 5.1135, val loss 4.9369\n",
      "step 18: train loss 5.0683, val loss 4.9201\n",
      "step 19: train loss 5.0741, val loss 4.9034\n",
      "step 20: train loss 5.0603, val loss 4.8868\n"
     ]
    }
   ],
   "source": [
    "while True:\n",
    "    if iter_num % eval_interval == 0:\n",
    "        losses = estimate_loss()\n",
    "        print(f\"step {iter_num}: train loss {losses['train']:.4f}, val loss {losses['val']:.4f}\")\n",
    "\n",
    "    if iter_num == 0 and eval_only:\n",
    "        break\n",
    "\n",
    "    for X, Y in train_set.take(1):\n",
    "        with tf.GradientTape() as tape:\n",
    "            logits, main_loss = model(X, Y, training=True)\n",
    "            loss = tf.add_n([main_loss] + model.losses)\n",
    "        gradients = tape.gradient(loss, model.trainable_variables)\n",
    "        gradients = [tf.clip_by_value(g, \n",
    "                                      clip_value_min=-grad_clip, \n",
    "                                      clip_value_max=grad_clip) for g in gradients]\n",
    "        optimizer.apply_gradients(zip(gradients, model.trainable_variables))    \n",
    "    \n",
    "    iter_num += 1\n",
    "    if iter_num > 20:\n",
    "        break\n"
   ]
  },
  {
   "cell_type": "code",
   "execution_count": null,
   "id": "99438fba-537b-4338-b9d5-70926839084e",
   "metadata": {},
   "outputs": [],
   "source": []
  }
 ],
 "metadata": {
  "kernelspec": {
   "display_name": "tf39",
   "language": "python",
   "name": "tf39"
  },
  "language_info": {
   "codemirror_mode": {
    "name": "ipython",
    "version": 3
   },
   "file_extension": ".py",
   "mimetype": "text/x-python",
   "name": "python",
   "nbconvert_exporter": "python",
   "pygments_lexer": "ipython3",
   "version": "3.9.18"
  }
 },
 "nbformat": 4,
 "nbformat_minor": 5
}
