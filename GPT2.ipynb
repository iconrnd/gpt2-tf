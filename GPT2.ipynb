{
 "cells": [
  {
   "cell_type": "markdown",
   "id": "80f2d32d-a2a5-4d07-82a8-a75f9d59a5c2",
   "metadata": {},
   "source": [
    "## Translating NanoGPT (GPT2) to TensorFlow\n",
    "\n",
    "#### Based on https://github.com/karpathy/nanoGPT/blob/master/model.py"
   ]
  },
  {
   "cell_type": "code",
   "execution_count": null,
   "id": "5cd63294-aad8-43f0-af26-fd269065c3cd",
   "metadata": {},
   "outputs": [],
   "source": [
    "import tensorflow as tf\n",
    "import numpy as np\n",
    "from  dataclasses import dataclass\n",
    "from tensorflow.experimental import numpy as tnp\n",
    "import tensorflow_probability as tfp\n",
    "import os"
   ]
  },
  {
   "cell_type": "markdown",
   "id": "12e066ce-3b7f-4b67-9baf-0447689759ca",
   "metadata": {},
   "source": [
    "## The Model"
   ]
  },
  {
   "cell_type": "code",
   "execution_count": 2,
   "id": "1815235f-5c52-47f2-b907-d76302440ccd",
   "metadata": {},
   "outputs": [],
   "source": [
    "class MyLayerNorm(tf.keras.layers.Layer):\n",
    "    \n",
    "    def __init__(self, bias=True, eps=1e-6, **kwargs):\n",
    "        super().__init__(**kwargs)\n",
    "        self.eps = eps\n",
    "        self.bias = bias\n",
    "        \n",
    "    def build(self, input_shape):  \n",
    "        self.weight = self.add_weight(name='weight',\n",
    "                                      shape=input_shape[-1:], # [-1:] gives last elem but keeps dims\n",
    "                                      initializer=tf.keras.initializers.Ones(),\n",
    "                                      trainable=True)\n",
    "\n",
    "        self.bias = self.add_weight(name='bias',\n",
    "                                      shape=input_shape[-1:], # [-1:] gives last elem but keeps dims\n",
    "                                      initializer=tf.keras.initializers.Zeros(),\n",
    "                                      trainable=True) if self.bias else None\n",
    "\n",
    "        super(MyLayerNorm, self).build(input_shape)\n",
    "    \n",
    "    def call(self, x):\n",
    "        # Can also use tf.nn.moments(inputs, axes=-1, keepdims=True), \n",
    "        # but then additionally one needs to take the sqrt to get \\sigma\n",
    "        mean = tf.keras.backend.mean(x, axis=-1, keepdims=True)\n",
    "        std = tf.keras.backend.std(x, axis=-1, keepdims=True)\n",
    "        \n",
    "        return self.weight * (x - mean) / (std + self.eps) + self.bias"
   ]
  },
  {
   "cell_type": "code",
   "execution_count": 3,
   "id": "f30015f0-edcb-4f58-95ba-7ef0b1f9b2b4",
   "metadata": {},
   "outputs": [],
   "source": [
    "@dataclass\n",
    "class GPTConfig:\n",
    "    block_size: int = 8 # 1024 for GPT2\n",
    "    vocab_size: int = 20 # 50304 for GPT2\n",
    "    n_layer: int = 2 # 12\n",
    "    n_head: int = 2 # 12\n",
    "    n_embd: int = 10 # 768\n",
    "    dropout: float = 0.0\n",
    "    bias: bool = True\n",
    "    seed: int = 1337"
   ]
  },
  {
   "cell_type": "code",
   "execution_count": 4,
   "id": "62748a28-fe5e-447a-9ee0-364f628721b8",
   "metadata": {},
   "outputs": [],
   "source": [
    "class CausalSelfAttention(tf.keras.layers.Layer):\n",
    "    \n",
    "    def __init__(self, config):\n",
    "        super().__init__()\n",
    "        assert config.n_embd % config.n_head == 0, \"Embedding dimension must divide number of heads\"\n",
    "        # key, query, value computed at once and splitted later\n",
    "        self.initializer_proj = tf.keras.initializers.RandomNormal(mean=0.0, stddev=0.02 / tf.math.sqrt(2. * config.n_layer), seed=None)\n",
    "        self.c_attn = tf.keras.layers.Dense(#config.n_embd,\n",
    "                                            3 * config.n_embd,\n",
    "                                            activation=None,\n",
    "                                            use_bias=config.bias)\n",
    "        # output projection\n",
    "        self.c_proj = tf.keras.layers.Dense(#config.n_embd,\n",
    "                                            config.n_embd,\n",
    "                                            activation=None,\n",
    "                                            kernel_initializer=self.initializer_proj,\n",
    "                                            use_bias=config.bias)\n",
    "        self.dropout = config.dropout\n",
    "        self.attn_dropout = tf.keras.layers.Dropout(self.dropout)\n",
    "        self.resid_dropout = tf.keras.layers.Dropout(self.dropout)\n",
    "\n",
    "        self.mask = tf.experimental.numpy.tril(\n",
    "            tf.ones([config.block_size, config.block_size]))[tf.newaxis, tf.newaxis, :, :]\n",
    "\n",
    "    def forward(self, x):\n",
    "        \n",
    "        B, T, C = x.size() # batch, sequence and channel, which is the embedding dim\n",
    "\n",
    "        q, k, v = self.c_attn(x).split(self.n_embd, axis=2)\n",
    "        k = tf.transpose(tf.reshape(k, [B, T, self.n_head, C // self.n_head]),\n",
    "                         perm=[0, 2, 1, 3])\n",
    "        q = tf.transpose(tf.reshape(q, [B, T, self.n_head, C // self.n_head]),\n",
    "                         perm=[0, 2, 1, 3])\n",
    "        v = tf.transpose(tf.reshape(v, [B, T, self.n_head, C // self.n_head]),\n",
    "                         perm=[0, 2, 1, 3])\n",
    "\n",
    "        att = (q @ tf.transpose(k, perm=[0, 1, 3, 2])) * (1.0 / tf.math.sqrt(k.shape[-1]))\n",
    "\n",
    "        mask = tf.experimental.numpy.tril(tf.ones([T, T]))[tf.newaxis, tf.newaxis, :, :]\n",
    "        att = tf.where(mask != 0, att, tf.constant(-np.inf))\n",
    "        att = tf.nn.softmax(att, axis = 3)\n",
    "        att = self.attn_dropout(att)\n",
    "        y = att @ v\n",
    "\n",
    "        y = tf.reshape(tf.transpose(y, perm=[0, 2, 1, 3]), [B, T, C])\n",
    "\n",
    "        return self.resid_dropout(self.c_proj(y))"
   ]
  },
  {
   "cell_type": "code",
   "execution_count": 5,
   "id": "3f03ff7b-782a-44ce-90d6-740bea8696d7",
   "metadata": {},
   "outputs": [],
   "source": [
    "class MLP(tf.keras.layers.Layer):\n",
    "\n",
    "    def __init__(self, config):\n",
    "        super().__init__()\n",
    "        self.initializer_proj = tf.keras.initializers.RandomNormal(mean=0.0, stddev=0.02 / tf.math.sqrt(2. * config.n_layer), seed=None)\n",
    "        # Streching and shrinking in channel/embedding dimension,\n",
    "        # like for large resnets\n",
    "        self.c_fc = tf.keras.layers.Dense(4 * config.n_embd, activation=None, use_bias=config.bias)\n",
    "        self.c_proj = tf.keras.layers.Dense(config.n_embd, activation=None, kernel_initializer=self.initializer_proj, use_bias=config.bias)\n",
    "        self.gelu = tf.keras.activations.gelu\n",
    "        self.dropout = tf.keras.layers.Dropout(config.dropout)\n",
    "\n",
    "    def forward(self, x):\n",
    "        x = self.c_fc(x)\n",
    "        x = self.gelu(x)\n",
    "        x = self.c_proj(x)\n",
    "        return self.dropout(x)\n",
    "        "
   ]
  },
  {
   "cell_type": "code",
   "execution_count": 6,
   "id": "d5b9f2e7-a6ca-42f1-a4f1-9fd4c70a5d6f",
   "metadata": {},
   "outputs": [],
   "source": [
    "class Block(tf.keras.layers.Layer):\n",
    "\n",
    "    def __init__(self, config):\n",
    "        super().__init__()\n",
    "        self.ln_1 = MyLayerNorm(bias=config.bias)\n",
    "        self.attn = CausalSelfAttention(config)\n",
    "        self.ln_2 = MyLayerNorm(bias=config.bias)\n",
    "        self.mlp = MLP(config)\n",
    "    \n",
    "    def forward(self, x):\n",
    "        x = x + self.attn(self.ln_1(x))\n",
    "        return x + self.mlp(self.ln_2(x))"
   ]
  },
  {
   "cell_type": "code",
   "execution_count": 7,
   "id": "33c27098-de9a-4d27-81dd-03252d470f5e",
   "metadata": {},
   "outputs": [],
   "source": [
    "class GPT(tf.keras.models.Model):\n",
    "\n",
    "    def __init__(self, config):\n",
    "        super().__init__()\n",
    "        assert config.vocab_size is not None\n",
    "        assert config.block_size is not None\n",
    "        self.config = config\n",
    "\n",
    "        self.initializer_dense = tf.keras.initializers.RandomNormal(mean=0.0, stddev=0.02, seed=self.config.seed)\n",
    "        self.initializer_embed = tf.keras.initializers.RandomNormal(mean=0.0, stddev=0.02, seed=self.config.seed)\n",
    "        self.initializer_bias = tf.keras.initializers.Zeros()\n",
    "        \n",
    "        self.wte = tf.keras.layers.Embedding(self.config.vocab_size, self.config.n_embd, \n",
    "                                             embeddings_initializer=self.initializer_embed, name='wte')\n",
    "        self.wpe = tf.keras.layers.Embedding(self.config.block_size, self.config.n_embd, \n",
    "                                             embeddings_initializer=self.initializer_embed, name='wpe')\n",
    "        self.drop = tf.keras.layers.Dropout(self.config.dropout, name='drop')\n",
    "        self.h = [Block(self.config) for _ in range(self.config.n_layer)]\n",
    "        self.ln_f = MyLayerNorm(bias=self.config.bias, name='ln_f')\n",
    "\n",
    "        self.lm_head = tf.keras.layers.Dense(self.config.vocab_size, use_bias=self.config.bias)\n",
    "\n",
    "    def build(self, input_shape):\n",
    "        self.wte.build(input_shape=[self.config.vocab_size])\n",
    "        self.lm_head.build(input_shape=[self.config.n_embd])\n",
    "        self.wte.trainable_weights[0].assign(tf.transpose(self.lm_head.trainable_weights[0]))\n",
    "        \n",
    "    def call(self, idx, targets=None):\n",
    "        b, t = idx.shape\n",
    "        assert t <= self.config.block_size, f'sequence too long for the defined context of {self.config.block_size}'\n",
    "        pos = tf.range(0, t, dtype=tf.int64)\n",
    "\n",
    "        tok_emb = self.wte(idx)\n",
    "        pos_emb = self.wpe(pos)\n",
    "        x = self.drop(tok_emb + pos_emb)\n",
    "        for block in self.h:\n",
    "            x = block(x)\n",
    "        x = self.ln_f(x)\n",
    "\n",
    "        if targets is not None:\n",
    "            ce = tf.keras.losses.SparseCategoricalCrossentropy(from_logits=True)\n",
    "            logits = self.lm_head(x)\n",
    "            \n",
    "            #print(tf.reshape(targets, [-1]).shape)\n",
    "            #print(tf.reshape(logits, [-1, logits.shape[-1]]).shape)\n",
    "            \n",
    "            loss = ce(tf.reshape(targets, [-1]),\n",
    "                      tf.reshape(logits, [-1, logits.shape[-1]]))\n",
    "        else:\n",
    "            logits = self.lm_head(x[:, -1, :])[:, tf.newaxis, :]\n",
    "            loss = None\n",
    "\n",
    "        return logits, loss\n",
    "\n",
    "    def crop_block_size(self, block_size):\n",
    "        assert block_size < self.config.block_size\n",
    "        self.config.block_size = block_size\n",
    "        self.wpe.weights[0] = tf.Variable(self.wpe.weights[0][:block_size], trainable=True)\n",
    "        for block in self.h:\n",
    "            #if hasattr(block.attn, 'bias'):\n",
    "            if len(block.attn.weights) == 2:\n",
    "                block.attn.bias = block.attn.bias[:, :, :block_size, :block_size]\n",
    "        \n",
    "    def get_num_params(self, non_embedding=True):\n",
    "        n_params = self.count_params()\n",
    "        if non_embedding:\n",
    "            n_params -= self.wpe.count_params()\n",
    "        return n_params\n",
    "    \n",
    "    def estimate_mfu(self, fwdbwd_per_iter, dt):\n",
    "        N = self.get_num_params()\n",
    "        L, H, Q, T = self.config.n_layer, self.config.n_head, self.config.n_embd / self.config.n_head, self.config.block_size\n",
    "        flops_per_token = 6 * N + 12 * L * H * Q * T\n",
    "        flops_per_fwdbwd = flops_per_token * T\n",
    "        flops_per_iter = flops_per_fwdbwd * fwdbwd_per_iter\n",
    "        flops_achieved = flops_per_iter * (1.0/dt)\n",
    "        flops_promised = 312e12 # A100 at bfloat16\n",
    "        mfu = flops_achieved / flops_promised\n",
    "        return mfu\n",
    "    \n",
    "    def generate(self, idx, max_new_tokens, temperature=1.0, top_k=None):\n",
    "        for i in range(max_new_tokens):\n",
    "            idx_cond = idx if idx.shape[1] <= self.config.block_size else idx[:, -self.config.block_size:]\n",
    "            logits, _ = self(idx_cond)\n",
    "            logits = logits[:, -1, :] / temperature\n",
    "            if top_k is not None:\n",
    "                v, _ = tf.math.top_k(logits, min(top_k, logits.shape[-1]))\n",
    "                # Returned top_k values are sorted, so [-1] is the smallest of top_k\n",
    "                # and we cut all below that value\n",
    "                logits[logits < v[:, -1]] = -float('Inf')\n",
    "            probs = tf.keras.activations.softmax(logits, axis=-1)\n",
    "            idx_dist = tfp.distributions.Multinomial(total_count=1, probs=probs)\n",
    "            idx_next = idx_dist.sample(1)\n",
    "            idx_next = tf.reshape(tf.math.argmax(idx_next, axis=-1), shape=(-1, 1))\n",
    "            idx = tf.concat([idx, idx_next], axis=1)\n",
    "        return idx"
   ]
  },
  {
   "cell_type": "markdown",
   "id": "c76b90f6-c158-4bce-bfa5-aeea6c0bae30",
   "metadata": {},
   "source": [
    "## Auxilliary routines"
   ]
  },
  {
   "cell_type": "code",
   "execution_count": 8,
   "id": "6f3b353c-e1a0-4d2e-8baa-5dcf1da99608",
   "metadata": {},
   "outputs": [],
   "source": [
    "@dataclass\n",
    "class MyLRSchedule(tf.keras.optimizers.schedules.LearningRateSchedule):\n",
    "    learning_rate: tf.float32 = 6e-4\n",
    "    warmup_iters: int = 10\n",
    "    min_lr: tf.float32 = 6e-5 \n",
    "    lr_decay_iters: int= 100\n",
    "    \n",
    "    def __call__(self, step):\n",
    "      if step < self.warmup_iters:\n",
    "          return self.learning_rate * float(step) / self.warmup_iters\n",
    "      if step > self.lr_decay_iters:\n",
    "          return self.min_lr\n",
    "      decay_ratio = (float(step) - self.warmup_iters) / (self.lr_decay_iters - self.warmup_iters)\n",
    "      assert 0 <= decay_ratio <= 1\n",
    "      coeff = 0.5 * (1.0 + tf.math.cos(tnp.pi * decay_ratio))\n",
    "      return self.min_lr + coeff * tf.cast((self.learning_rate - self.min_lr), dtype=tf.float32)"
   ]
  },
  {
   "cell_type": "code",
   "execution_count": 9,
   "id": "cc7452c0-ee4a-4828-9ffe-9bdbe9beca04",
   "metadata": {},
   "outputs": [],
   "source": [
    "def estimate_loss():\n",
    "    out = {'train': None, 'val': None}\n",
    "    \n",
    "    losses = tf.zeros(eval_iters)\n",
    "    k = tf.Variable(0, trainable=False)\n",
    "    for X, Y in train_set.take(eval_iters):\n",
    "        logits, loss = model(X, Y, training=False)\n",
    "        tf.tensor_scatter_nd_update(losses, [[k]], [loss])\n",
    "        k.assign_add(1)\n",
    "    out['train'] = tf.reduce_mean(loss)\n",
    "\n",
    "    losses = tf.zeros(eval_iters)\n",
    "    k = tf.Variable(0, trainable=False)\n",
    "    for X, Y in valid_set.take(eval_iters):\n",
    "        logits, loss = model(X, Y, training=False)\n",
    "        tf.tensor_scatter_nd_update(losses, [[k]], [loss])\n",
    "        k.assign_add(1)\n",
    "    out['val'] = tf.reduce_mean(loss)\n",
    "\n",
    "    return out"
   ]
  },
  {
   "cell_type": "markdown",
   "id": "5445c587-127f-4847-a376-83137d4872eb",
   "metadata": {},
   "source": [
    "## Dataset"
   ]
  },
  {
   "cell_type": "code",
   "execution_count": 10,
   "id": "fc9783bf-ffd8-47a7-a96d-7e565b2fd426",
   "metadata": {},
   "outputs": [],
   "source": [
    "shakespear_url = \"https://homl.info/shakespeare\"\n",
    "filepath = tf.keras.utils.get_file('shakespear.txt', shakespear_url)"
   ]
  },
  {
   "cell_type": "code",
   "execution_count": 11,
   "id": "6b924d61-10ce-4a53-9bcf-988ac292bd4b",
   "metadata": {},
   "outputs": [],
   "source": [
    "with open(filepath, 'r', encoding='utf-8') as f:\n",
    "    shakespear_txt = f.read()"
   ]
  },
  {
   "cell_type": "code",
   "execution_count": 12,
   "id": "1fc58f79-1e89-4670-968d-b5ac2ddeaf12",
   "metadata": {},
   "outputs": [
    {
     "name": "stdout",
     "output_type": "stream",
     "text": [
      "First Citizen:\n",
      "Before we proceed any further, hear me speak.\n",
      "\n",
      "All:\n",
      "Speak, speak.\n",
      "\n",
      "First Citizen:\n",
      "You\n"
     ]
    }
   ],
   "source": [
    "print(shakespear_txt[:100])"
   ]
  },
  {
   "cell_type": "code",
   "execution_count": null,
   "id": "895d2e3f-a3b9-4206-8a42-9c8ef6878241",
   "metadata": {},
   "outputs": [],
   "source": [
    "text_vec_layer = tf.keras.layers.TextVectorization(split='character',\n",
    "                                                  standardize='lower')"
   ]
  },
  {
   "cell_type": "code",
   "execution_count": 14,
   "id": "69510b33-0bc0-4949-8354-a3e46e6ce141",
   "metadata": {},
   "outputs": [],
   "source": [
    "text_vec_layer.adapt([shakespear_txt])"
   ]
  },
  {
   "cell_type": "code",
   "execution_count": 15,
   "id": "1cb9ef03-8cb6-460e-86e1-0f4ef25bddc7",
   "metadata": {},
   "outputs": [
    {
     "data": {
      "text/plain": [
       "['', '[UNK]', ' ', 'e', 't', 'o', 'a', 'i', 'h', 's']"
      ]
     },
     "execution_count": 15,
     "metadata": {},
     "output_type": "execute_result"
    }
   ],
   "source": [
    "text_vec_layer.get_vocabulary()[:10]"
   ]
  },
  {
   "cell_type": "code",
   "execution_count": 16,
   "id": "7c1790fb-ae48-4d91-8271-52dd1e9728e1",
   "metadata": {},
   "outputs": [],
   "source": [
    "encoded = text_vec_layer([shakespear_txt])[0]"
   ]
  },
  {
   "cell_type": "code",
   "execution_count": 17,
   "id": "a193190e-994c-4102-9641-9b6094057233",
   "metadata": {},
   "outputs": [
    {
     "data": {
      "text/plain": [
       "<tf.Tensor: shape=(1115394,), dtype=int64, numpy=array([21,  7, 10, ..., 22, 28, 12])>"
      ]
     },
     "execution_count": 17,
     "metadata": {},
     "output_type": "execute_result"
    }
   ],
   "source": [
    "encoded"
   ]
  },
  {
   "cell_type": "code",
   "execution_count": 18,
   "id": "48b4bc16-834b-4dcb-bf3a-9dcf99a75cb1",
   "metadata": {},
   "outputs": [],
   "source": [
    "# Removing code 0 and 1 reserved for padding and unknown characters \n",
    "# (codes start at 2 before that removal so now 0 and 1 will be some chars)\n",
    "encoded -= 2\n",
    "\n",
    "n_tokens = text_vec_layer.vocabulary_size() - 2\n",
    "dataset_size = len(encoded)"
   ]
  },
  {
   "cell_type": "code",
   "execution_count": 19,
   "id": "f67da86c-ac61-4c4e-9a1d-df7ae567eed1",
   "metadata": {},
   "outputs": [
    {
     "data": {
      "text/plain": [
       "39"
      ]
     },
     "execution_count": 19,
     "metadata": {},
     "output_type": "execute_result"
    }
   ],
   "source": [
    "n_tokens"
   ]
  },
  {
   "cell_type": "code",
   "execution_count": 20,
   "id": "e3ef9654-7a8f-46a7-bd8a-2c05f4c7eec4",
   "metadata": {},
   "outputs": [],
   "source": [
    "ds = tf.data.Dataset.from_tensor_slices(encoded)"
   ]
  },
  {
   "cell_type": "code",
   "execution_count": 21,
   "id": "42db9390-638c-4bc8-89a9-2fb3a8bf608c",
   "metadata": {},
   "outputs": [],
   "source": [
    "def to_dataset(sequence, length, shuffle=False, seed=None, batch_size=128):\n",
    "    ds = tf.data.Dataset.from_tensor_slices(sequence)\n",
    "    ds = ds.window(length + 1, shift=1, drop_remainder=True)\n",
    "    ds = ds.flat_map(lambda window_ds: window_ds.batch(length+1))\n",
    "    if shuffle:\n",
    "        ds = ds.shuffle(buffer_size=100_000, seed=seed)\n",
    "    ds = ds.batch(batch_size)\n",
    "    return ds.map(lambda window: (window[:, :-1], window[:, 1:])).prefetch(1)"
   ]
  },
  {
   "cell_type": "code",
   "execution_count": 22,
   "id": "53836358-b36f-4325-ad67-69dfa6bd38a8",
   "metadata": {},
   "outputs": [],
   "source": [
    "length = 32\n",
    "tf.random.set_seed(1337)"
   ]
  },
  {
   "cell_type": "code",
   "execution_count": 23,
   "id": "5b70c83e-72b1-4449-87b5-c805e996e80c",
   "metadata": {},
   "outputs": [],
   "source": [
    "train_set = to_dataset(encoded[:1_060_000], length=length, shuffle=True, seed=1337)\n",
    "valid_set = to_dataset(encoded[1_060_000:], length=length)"
   ]
  },
  {
   "cell_type": "code",
   "execution_count": 24,
   "id": "c389baff-d9d6-4592-8faa-1429d90f4320",
   "metadata": {},
   "outputs": [],
   "source": [
    "#for sample in train_set.rebatch(1).take(1):\n",
    "#    print(sample[0])\n",
    "#    print(sample[1])"
   ]
  },
  {
   "cell_type": "markdown",
   "id": "57e12c47-3a94-418b-ab0b-88dac5e26688",
   "metadata": {},
   "source": [
    "## Training"
   ]
  },
  {
   "cell_type": "code",
   "execution_count": 25,
   "id": "97a7a825-e4ca-4684-9fef-d50ebc0a500d",
   "metadata": {},
   "outputs": [],
   "source": [
    "n_layer = 4\n",
    "n_head = 4\n",
    "n_embd = 32\n",
    "block_size = length\n",
    "bias = True\n",
    "vocab_size = n_tokens\n",
    "dropout = tf.constant(0.0, dtype=tf.float32)\n",
    "\n",
    "iter_num = 0\n",
    "best_val_loss = 1e9\n",
    "max_iters = 150\n",
    "\n",
    "weight_decay = tf.constant(1e-1, dtype=tf.float32)\n",
    "\n",
    "warmup_iters = 10\n",
    "learning_rate = tf.constant(6e-4, dtype=tf.float32)\n",
    "lr_decay_iters = 200 # == max_iters\n",
    "min_lr = tf.constant(6e-5, dtype=tf.float32)\n",
    "\n",
    "eval_iters = 20\n",
    "eval_interval = 10\n",
    "\n",
    "grad_clip = tf.constant(1.0, dtype=tf.float32)\n",
    "\n",
    "eval_only = False\n",
    "eval_interval=1\n",
    "step = 0\n",
    "\n",
    "always_save_checkpoint = True\n",
    "restore = False"
   ]
  },
  {
   "cell_type": "code",
   "execution_count": 26,
   "id": "0666b4cf-de36-46eb-b843-ba07a0dd9da6",
   "metadata": {},
   "outputs": [],
   "source": [
    "model_args = dict(n_layer=n_layer, \n",
    "                  n_head=n_head, \n",
    "                  n_embd=n_embd,\n",
    "                  block_size=block_size,\n",
    "                  bias=bias,\n",
    "                  vocab_size=vocab_size,\n",
    "                  dropout=dropout)"
   ]
  },
  {
   "cell_type": "code",
   "execution_count": 27,
   "id": "9a18b3ce-bc94-444c-b924-1b07dae0d658",
   "metadata": {},
   "outputs": [
    {
     "data": {
      "text/plain": [
       "{'n_layer': 4,\n",
       " 'n_head': 4,\n",
       " 'n_embd': 32,\n",
       " 'block_size': 32,\n",
       " 'bias': True,\n",
       " 'vocab_size': 39,\n",
       " 'dropout': <tf.Tensor: shape=(), dtype=float32, numpy=0.0>}"
      ]
     },
     "execution_count": 27,
     "metadata": {},
     "output_type": "execute_result"
    }
   ],
   "source": [
    "model_args"
   ]
  },
  {
   "cell_type": "code",
   "execution_count": 28,
   "id": "9372625b-c92b-475f-a173-53809b19a61a",
   "metadata": {},
   "outputs": [],
   "source": [
    "checkpoint_directory = \"./checkpoints\"\n",
    "checkpoint_prefix = os.path.join(checkpoint_directory, \"ckpt\")"
   ]
  },
  {
   "cell_type": "code",
   "execution_count": 29,
   "id": "3a3b2d39-fdbc-4b83-8110-100c6c8e4a0f",
   "metadata": {},
   "outputs": [],
   "source": [
    "gptconf = GPTConfig(**model_args)\n",
    "model = GPT(gptconf)\n",
    "optimizer = tf.keras.optimizers.AdamW(learning_rate=MyLRSchedule(learning_rate, warmup_iters, min_lr, lr_decay_iters))\n",
    "\n",
    "ckpt = tf.train.Checkpoint(step=tf.Variable(0),\n",
    "                           optimizer=optimizer, \n",
    "                           model=model,\n",
    "                           model_args=model_args,\n",
    "                           best_val_loss=tf.Variable(best_val_loss))\n",
    "                           #config=GPTConfig)\n",
    "\n",
    "manager = tf.train.CheckpointManager(ckpt, checkpoint_directory, max_to_keep=3)\n",
    "\n",
    "if restore:\n",
    "    ckpt.restore(manager.latest_checkpoint)\n",
    "    step = int(ckpt.step)\n",
    "    best_val_loss = float(ckpt.best_val_loss)\n",
    "    model = ckpt.model\n",
    "    optimizer = ckpt.optimizer\n",
    "    model_args=ckpt.model_args"
   ]
  },
  {
   "cell_type": "code",
   "execution_count": null,
   "id": "2022dbf1-1adf-4e5f-a7e6-b99dc2d587af",
   "metadata": {},
   "outputs": [],
   "source": [
    "while True:\n",
    "    if step % eval_interval == 0:\n",
    "        losses = estimate_loss()\n",
    "        print(f\"step {step}: train loss {losses['train']:.4f}, val loss {losses['val']:.4f}\")\n",
    "\n",
    "    # Checkpointing\n",
    "    if losses['val'] < best_val_loss or always_save_checkpoint:\n",
    "        best_val_loss = losses['val']\n",
    "        if step > 0:\n",
    "            print(f'Saving checkpoint to {checkpoint_prefix}')\n",
    "            ckpt.step.assign_add(1)\n",
    "            ckpt.best_val_loss.assign(best_val_loss)\n",
    "            manager.save()\n",
    "           \n",
    "    if step == 0 and eval_only:\n",
    "        break\n",
    "\n",
    "    for X, Y in train_set:\n",
    "        with tf.GradientTape() as tape:\n",
    "            logits, main_loss = model(X, Y, training=True)\n",
    "            loss = tf.add_n([main_loss] + model.losses)\n",
    "        gradients = tape.gradient(loss, model.trainable_variables)\n",
    "        gradients = [tf.clip_by_value(g, \n",
    "                                      clip_value_min=-grad_clip, \n",
    "                                      clip_value_max=grad_clip) for g in gradients]\n",
    "        optimizer.apply_gradients(zip(gradients, model.trainable_variables))    \n",
    "    \n",
    "    step += 1\n",
    "    if step > max_iters:\n",
    "        break\n",
    "    "
   ]
  },
  {
   "cell_type": "markdown",
   "id": "1be9b7e1-bcbc-48d9-b400-b426a4719f05",
   "metadata": {},
   "source": [
    "## Inference"
   ]
  },
  {
   "cell_type": "code",
   "execution_count": 31,
   "id": "742753a9-b07e-4fec-b75a-30b1220be2b1",
   "metadata": {},
   "outputs": [],
   "source": [
    "def decode(gen_txt, text_vec_layer):\n",
    "    out = []\n",
    "    gen_txt = gen_txt + 2\n",
    "    reverse = text_vec_layer.get_vocabulary()\n",
    "    decoder = lambda x: str(reverse[x])\n",
    "    gen_shape = gen.shape\n",
    "    gen_flat = tf.reshape(gen_txt, -1)\n",
    "    res = tf.map_fn(decoder, gen_flat, fn_output_signature='string')\n",
    "    res = tf.reshape(res, gen_shape)\n",
    "    res = res.numpy()\n",
    "    for sentence in res:\n",
    "        out.append(b\"\".join(sentence).decode())\n",
    "    return out"
   ]
  },
  {
   "cell_type": "code",
   "execution_count": 32,
   "id": "a6195543-203f-4307-9472-bad6d7c8e749",
   "metadata": {},
   "outputs": [
    {
     "data": {
      "text/plain": [
       "'First Citizen:\\nBefore we proceed'"
      ]
     },
     "execution_count": 32,
     "metadata": {},
     "output_type": "execute_result"
    }
   ],
   "source": [
    "shakespear_txt[:32]"
   ]
  },
  {
   "cell_type": "code",
   "execution_count": 33,
   "id": "65a9bafd-3425-4113-8a7d-d6136eb1972e",
   "metadata": {},
   "outputs": [],
   "source": [
    "txt = tf.reshape(text_vec_layer(shakespear_txt[:32]), shape=(-1, 32)) - 2"
   ]
  },
  {
   "cell_type": "code",
   "execution_count": 34,
   "id": "5fe3379b-20c5-42fb-ba89-38e1608a375b",
   "metadata": {},
   "outputs": [],
   "source": [
    "gen = model.generate(txt, 32)"
   ]
  },
  {
   "cell_type": "code",
   "execution_count": 35,
   "id": "d4692ebf-1b3f-4d07-9314-234a06b6e6e9",
   "metadata": {},
   "outputs": [
    {
     "data": {
      "text/plain": [
       "[\"first citizen:\\nbefore we proceedi i'lanqu shatheipe tifadouteare\"]"
      ]
     },
     "execution_count": 35,
     "metadata": {},
     "output_type": "execute_result"
    }
   ],
   "source": [
    "decode(gen, text_vec_layer)"
   ]
  },
  {
   "cell_type": "code",
   "execution_count": null,
   "id": "3e6e5b7c-893d-4dd0-b5b5-912a054c6f7d",
   "metadata": {},
   "outputs": [],
   "source": []
  }
 ],
 "metadata": {
  "kernelspec": {
   "display_name": "tf39",
   "language": "python",
   "name": "tf39"
  },
  "language_info": {
   "codemirror_mode": {
    "name": "ipython",
    "version": 3
   },
   "file_extension": ".py",
   "mimetype": "text/x-python",
   "name": "python",
   "nbconvert_exporter": "python",
   "pygments_lexer": "ipython3",
   "version": "3.9.18"
  }
 },
 "nbformat": 4,
 "nbformat_minor": 5
}
